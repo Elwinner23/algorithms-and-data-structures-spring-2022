{
 "cells": [
  {
   "cell_type": "code",
   "execution_count": 3,
   "id": "cc15c1f9-f148-4a20-90cd-c826bcb66afa",
   "metadata": {},
   "outputs": [
    {
     "name": "stdout",
     "output_type": "stream",
     "text": [
      "['6\\n', '417\\n', '274\\n', '417\\n', '53\\n', '274\\n', '89\\n']\n",
      "6\n",
      "-\n",
      "+\n",
      "-\n",
      "+\n",
      "-\n"
     ]
    }
   ],
   "source": [
    "class Node:\n",
    "   def __init__(self, data):\n",
    "      self.left = None\n",
    "      self.right = None\n",
    "      self.data = data\n",
    "\n",
    "   def insert(self, data):\n",
    "# Compare the new value with the parent node\n",
    "      if self.data:\n",
    "         if data < self.data:\n",
    "            if self.left is None:\n",
    "                print('-')\n",
    "                self.left = Node(data)\n",
    "            else:\n",
    "                self.left.insert(data)\n",
    "         elif data > self.data:\n",
    "            if self.right is None:\n",
    "                print('-')\n",
    "                self.right = Node(data)\n",
    "            else:\n",
    "                self.right.insert(data)\n",
    "         else:\n",
    "            print('+')\n",
    "            self.data = data\n",
    "\n",
    "# Print the tree\n",
    "   def PrintTree(self):\n",
    "      if self.left:\n",
    "         self.left.PrintTree()\n",
    "      print( self.data),\n",
    "      if self.right:\n",
    "         self.right.PrintTree()\n",
    "\n",
    "# Use the insert method to add nodes\n",
    "#print('-')\n",
    "data = []\n",
    "with open(\"1.in\") as f:\n",
    "    for line in f:\n",
    "        data.append(line)\n",
    "n = int(data[0])\n",
    "root = Node(data[1])\n",
    "for i in range(2, n+1):\n",
    "    root.insert(data[i])\n"
   ]
  },
  {
   "cell_type": "code",
   "execution_count": null,
   "id": "1b1b8987-842a-462d-a92b-77e0c4d71085",
   "metadata": {},
   "outputs": [],
   "source": []
  }
 ],
 "metadata": {
  "kernelspec": {
   "display_name": "Python 3 (ipykernel)",
   "language": "python",
   "name": "python3"
  },
  "language_info": {
   "codemirror_mode": {
    "name": "ipython",
    "version": 3
   },
   "file_extension": ".py",
   "mimetype": "text/x-python",
   "name": "python",
   "nbconvert_exporter": "python",
   "pygments_lexer": "ipython3",
   "version": "3.9.7"
  }
 },
 "nbformat": 4,
 "nbformat_minor": 5
}
