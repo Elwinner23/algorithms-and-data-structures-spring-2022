{
 "cells": [
  {
   "cell_type": "code",
   "execution_count": 2,
   "id": "87eeada0-ec79-4ec4-9846-30d5424cda61",
   "metadata": {},
   "outputs": [],
   "source": [
    "def get(x, p):\n",
    "    if p[x] != x:\n",
    "        p[x] = get(p[x], p)\n",
    "    return p[x]"
   ]
  },
  {
   "cell_type": "code",
   "execution_count": 3,
   "id": "0cf6ec76-ebc6-462a-9846-333ac73619f3",
   "metadata": {},
   "outputs": [],
   "source": [
    "def union(x, y, p, r):\n",
    "    x = get(x, p)\n",
    "    y = get(y, p)\n",
    "    if x == y:\n",
    "        print(\"YES\")\n",
    "        return\n",
    "    if r[x] == r[y]:\n",
    "        r[x] += 1\n",
    "    if r[x] < r[y]:\n",
    "        p[x] = y\n",
    "    else:\n",
    "        p[y] = x\n",
    "    print(\"NO\")\n",
    "\n"
   ]
  },
  {
   "cell_type": "code",
   "execution_count": 6,
   "id": "a23f3cb8-de93-42b0-b7c2-1b893fb185b5",
   "metadata": {},
   "outputs": [
    {
     "name": "stdout",
     "output_type": "stream",
     "text": [
      "NO\n",
      "NO\n",
      "NO\n",
      "YES\n",
      "YES\n",
      "YES\n",
      "YES\n",
      "YES\n",
      "YES\n",
      "YES\n"
     ]
    }
   ],
   "source": [
    "p = []\n",
    "r = []\n",
    "data=[]\n",
    "with open(\"1.in\") as f:\n",
    "    for line in f:\n",
    "        data.append(line.split())\n",
    "n = int(data[0][0])\n",
    "k = int(data[0][1])\n",
    "for i in range(n):\n",
    "    p.append(i)\n",
    "    r.append(1)\n",
    "for i in range(k):\n",
    "    a = int(data[i+1][0])\n",
    "    b = int(data[i+1][1])\n",
    "    union(a, b, p, r)"
   ]
  },
  {
   "cell_type": "code",
   "execution_count": null,
   "id": "5789d67b-c3e5-4c02-9557-85081f89ccfb",
   "metadata": {},
   "outputs": [],
   "source": []
  }
 ],
 "metadata": {
  "kernelspec": {
   "display_name": "Python 3 (ipykernel)",
   "language": "python",
   "name": "python3"
  },
  "language_info": {
   "codemirror_mode": {
    "name": "ipython",
    "version": 3
   },
   "file_extension": ".py",
   "mimetype": "text/x-python",
   "name": "python",
   "nbconvert_exporter": "python",
   "pygments_lexer": "ipython3",
   "version": "3.9.7"
  }
 },
 "nbformat": 4,
 "nbformat_minor": 5
}
